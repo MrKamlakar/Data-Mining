{
 "cells": [
  {
   "cell_type": "code",
   "execution_count": 11,
   "id": "191744d3",
   "metadata": {},
   "outputs": [
    {
     "data": {
      "text/plain": [
       "[('l1',), ('l2',), ('l3',), ('l4',), ('l5',)]"
      ]
     },
     "execution_count": 11,
     "metadata": {},
     "output_type": "execute_result"
    }
   ],
   "source": [
    "l=[\"l1\" ,\"l2\",\"l3\",\"l4\",\"l5\"]\n",
    "n=1\n",
    "import itertools\n",
    "def findsubsets(s,n):\n",
    "    subsets = list(sorted(itertools.combinations(s,n)))\n",
    "    return subsets\n",
    "\n",
    "findsubsets(l,n)    \n",
    "  \n",
    "        "
   ]
  },
  {
   "cell_type": "code",
   "execution_count": 1,
   "id": "fbb54461",
   "metadata": {},
   "outputs": [
    {
     "data": {
      "text/plain": [
       "['1', '2', '3', '4', 'l']"
      ]
     },
     "execution_count": 1,
     "metadata": {},
     "output_type": "execute_result"
    }
   ],
   "source": [
    "def items_from_frequent_itemsets(frequent_itemset):\n",
    "    items = list()\n",
    "    for keys in frequent_itemset.keys():\n",
    "        for item in list(keys):\n",
    "            items.append(item)\n",
    "    return sorted(list(set(items)))\n",
    "items_from_frequent_itemsets({\"l1\":4,\"l2\":5,\"l3\":4,\"l4\":4})\n",
    "\n",
    "\n",
    "    "
   ]
  },
  {
   "cell_type": "code",
   "execution_count": 44,
   "id": "f5f12122",
   "metadata": {},
   "outputs": [
    {
     "name": "stdout",
     "output_type": "stream",
     "text": [
      "['l']\n",
      "['1', 'l']\n",
      "['1', 'l']\n",
      "['1', '2', 'l']\n",
      "['1', '2', 'l']\n",
      "['1', '2', '3', 'l']\n",
      "['1', '2', '3', 'l']\n",
      "['1', '2', '3', '4', 'l']\n",
      "['l', '1', 'l', '2', 'l', '3', 'l', '4']\n"
     ]
    }
   ],
   "source": [
    "frequent_itemset={\"l1\":4,\"l2\":5,\"l3\":4,\"l4\":4}\n",
    "items = list()\n",
    "for keys in frequent_itemset.keys():\n",
    "    for item in list(keys):\n",
    "        items.append(item)\n",
    "        print(sorted(list(set(items))))\n",
    "print(items)"
   ]
  },
  {
   "cell_type": "code",
   "execution_count": null,
   "id": "fcfce4a2",
   "metadata": {},
   "outputs": [],
   "source": []
  }
 ],
 "metadata": {
  "kernelspec": {
   "display_name": "Python 3 (ipykernel)",
   "language": "python",
   "name": "python3"
  },
  "language_info": {
   "codemirror_mode": {
    "name": "ipython",
    "version": 3
   },
   "file_extension": ".py",
   "mimetype": "text/x-python",
   "name": "python",
   "nbconvert_exporter": "python",
   "pygments_lexer": "ipython3",
   "version": "3.9.12"
  }
 },
 "nbformat": 4,
 "nbformat_minor": 5
}
